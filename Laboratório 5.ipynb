{
  "nbformat": 4,
  "nbformat_minor": 0,
  "metadata": {
    "colab": {
      "provenance": [],
      "collapsed_sections": [
        "Ud-A5dLPQsTx"
      ]
    },
    "language_info": {
      "name": "python"
    },
    "kernelspec": {
      "name": "python3",
      "display_name": "Python 3"
    }
  },
  "cells": [
    {
      "cell_type": "markdown",
      "metadata": {
        "id": "MSRVgJX_J3Nf"
      },
      "source": [
        "#Trabalho prático # 5\n",
        "##Introdução à Computação Numérica\n",
        "\n",
        "###Tópico: Solução de Problemas de Valor Inicial (PVI)\n",
        "\n",
        "---\n",
        "\n",
        "Nome: *Eduarda Leal*\n",
        "\n",
        "DRE: *118199369*\n",
        "\n",
        "\n",
        "---\n",
        "\n",
        "**Instruções:**\n",
        "\n",
        "**Preencha o notebook** com seus dados, seus códigos e **rode todos os códigos**\n",
        "\n",
        "**Inclua  um relatório, na parte final do notebook,** com suas conclusões, respostas, observações e comentários relacionados com os tópicos e questões abordadas nas tarefas.  \n",
        "\n",
        "**A elaboração dos códigos pode ser realizada em duplas, mas o resto do trabalho é individual.**\n",
        "\n",
        "*Se você fez o seu trabalho em dupla inclua essa informação no relatório. Além disso, se você  também recebeu ajuda de um(a) colega/amigo(a) ou consultou/usou informações da internet ou outras fontes, coloque referências à elas no seu relatório.*\n",
        "\n",
        "\n",
        "**Entrega do trabalho:**\n",
        "\n",
        "*Data de entrega: 12/julho/2023*\n",
        "\n",
        "---\n"
      ]
    },
    {
      "cell_type": "markdown",
      "metadata": {
        "id": "Ud-A5dLPQsTx"
      },
      "source": [
        "## Tarefa #1:\n",
        "\n",
        " Desenvolver códigos, na forma de funções que implementem:\n",
        "\n",
        "a) O Método de Euler.\n",
        "\n",
        "b) O Método  de Euler aperfeiçoado (ou Método de Heun).\n",
        "\n",
        "c) O Método de Runge-Kutta clássico de quarta ordem.\n",
        "\n"
      ]
    },
    {
      "cell_type": "code",
      "source": [
        "# Letra A\n",
        "\n",
        "# Implementação do método de Euler\n",
        "def euler(f, x0, y0, h, n):\n",
        "    x = x0\n",
        "    y = y0\n",
        "    result = [(x, y)]\n",
        "\n",
        "    for _ in range(n):\n",
        "        # Calcula o próximo valor de y usando a fórmula do método de Euler\n",
        "        y = y + h * f(x, y)\n",
        "        # Atualiza o valor de x\n",
        "        x = x + h\n",
        "        # Adiciona o par (x, y) ao resultado\n",
        "        result.append((x, y))\n",
        "\n",
        "    return result\n",
        "\n",
        "\n",
        "# Letra B\n",
        "\n",
        "# Implementação do método de Euler aperfeiçoado\n",
        "def euler_aperfeicoado(f, x0, y0, h, n):\n",
        "    x = x0\n",
        "    y = y0\n",
        "    result = [(x, y)]\n",
        "\n",
        "    for _ in range(n):\n",
        "        # Calcula as inclinações k1 e k2 usando a fórmula do método de Euler aperfeiçoado\n",
        "        k1 = h * f(x, y)\n",
        "        k2 = h * f(x + h, y + k1)\n",
        "        # Calcula o próximo valor de y usando a fórmula do método de Euler aperfeiçoado\n",
        "        y = y + 0.5 * (k1 + k2)\n",
        "        # Atualiza o valor de x\n",
        "        x = x + h\n",
        "        # Adiciona o par (x, y) ao resultado\n",
        "        result.append((x, y))\n",
        "\n",
        "    return result\n",
        "\n",
        "\n",
        "# Letra C\n",
        "\n",
        "# Implementação do método de Runge-Kutta de quarta ordem\n",
        "def runge_kutta(f, x0, y0, h, n):\n",
        "    x = x0\n",
        "    y = y0\n",
        "    result = [(x, y)]\n",
        "\n",
        "    for _ in range(n):\n",
        "        # Calcula as inclinações k1, k2, k3 e k4 usando a fórmula do método de Runge-Kutta\n",
        "        k1 = h * f(x, y)\n",
        "        k2 = h * f(x + (1/2) * h, y + (1/2) * k1)\n",
        "        k3 = h * f(x + (1/2) * h, y + (1/2) * k2)\n",
        "        k4 = h * f(x + h, y + k3)\n",
        "\n",
        "        # Calcula o próximo valor de y usando a fórmula do método de Runge-Kutta\n",
        "        y = y + (k1 + 2*k2 + 2*k3 + k4) / 6\n",
        "        # Atualiza o valor de x\n",
        "        x += h\n",
        "        # Adiciona o par (x, y) ao resultado\n",
        "        result.append((x, y))\n",
        "\n",
        "    return result\n"
      ],
      "metadata": {
        "id": "IhbT9_XrPj4j"
      },
      "execution_count": null,
      "outputs": []
    },
    {
      "cell_type": "markdown",
      "metadata": {
        "id": "7tYAya4HLflB"
      },
      "source": [
        "\n",
        "## Tarefa #2: Paraquedista em queda livre\n",
        "\n",
        "Utilize os seus códigos (da tarefa anterior, itens a), b) e c) ) para responder a seguinte questão.   \n",
        "**Qual será a velocidade vertical atingida  por um paraquedista em queda livre (a velocidade inicial é nula), $25\\,s$ após o salto?**\n",
        "\n",
        "\n",
        "a) Considere que a taxa de variação instantânea da velocidade do paraquedista é dada pela EDO\n",
        "$$\\frac{dv}{dt}=g-\\frac{c}{m} v, $$\n",
        "onde $g=9.81\\,m/s^2$ é a aceleração da gravidade, $m=75\\,kg$ é a massa do paraquedista e $c=12.5\\,kg/s$ é o coeficiente de arrasto correspondente ao paraquedas.\n",
        "\n",
        "Para cada método implementado determine um número de passos tal que o erro na aproximação da velocidade final $v(25)$ seja inferior a $10^{-2}$, se sabemos que o valor exato da velocidade  pode ser calculado pela fórmula\n",
        "$$v(t) = \\frac{gm}{c}\\left( 1-e^{-(c/m)t}\\right).$$\n",
        "\n",
        "Dica: Isto poderá ser feito por tentativa e erro.\n",
        "\n",
        "b) Considere uma outra lei para a taxa de variação instantânea da velocidade do paraquedista dada pela EDO\n",
        "$$\\frac{dv}{dt}=g-\\frac{C(v)}{m} v, $$\n",
        "onde a função empiríca $C(v)$ que caracteriza a resistência do paraquedas é dada por\n",
        "$$C(v) = c\\left[1+\\alpha \\left(\\frac{v}{v_{max}}\\right)^\\beta\\right],$$\n",
        "em que $c=12.5\\,kg/s$, $\\alpha=0.2$, $\\beta =1.1$ e $v_{max} = 46\\,m/s$.  (Observe que no caso $\\alpha=0$ este modelo coincide com o apresentado no item a).)\n",
        "\n",
        "Obtenha a velocidade final usando cada um dos métodos implementados considerando o mesmo número de passos definido no item a)).\n",
        "\n",
        "c) Compare as velocidades obtidas nos itens a) e b).\n"
      ]
    },
    {
      "cell_type": "code",
      "source": [
        "#Letra A\n",
        "\n",
        "import math\n",
        "\n",
        "g = 9.81  # Aceleração da gravidade em m/s^2\n",
        "m = 75  # Massa do paraquedista em kg\n",
        "c = 12.5  # Coeficiente de arrasto em kg/s\n",
        "\n",
        "def f(t, v):\n",
        "    return g - (c/m) * v\n",
        "\n",
        "#Função para encontrar número de passos necessários para que erro seja menor que 10^-2.\n",
        "def qnt_passos(metodo):\n",
        "    n = 1\n",
        "    while True:\n",
        "        resultado = metodo(f, 0, 0, 25/n, n)\n",
        "        aprox_velocidade = resultado[-1][1]\n",
        "        velocidade_exata = (g * m / c) * (1 - math.exp(-(c / m) * 25))\n",
        "        erro = abs(aprox_velocidade - velocidade_exata)\n",
        "        if erro < 10**(-2):\n",
        "            return n, erro, resultado\n",
        "        n += 1\n",
        "\n",
        "n_euler, erro_euler, euler_resultado = qnt_passos(euler)\n",
        "n_euler_aprimorado, erro_euler_aprimorado, euler_aprimorado_resultado = qnt_passos(euler_aperfeicoado)\n",
        "n_runge_kutta, erro_runge_kutta, runge_kutta_resultado = qnt_passos(runge_kutta)\n",
        "\n",
        "velocidade_euler_A = euler_resultado[-1][1]\n",
        "velocidade_euler_aprimorado_A = euler_aprimorado_resultado[-1][1]\n",
        "velocidade_runge_kutta_A = runge_kutta_resultado[-1][1]\n",
        "\n",
        "print(f\"Método de Euler\\nNúmero de passos: {n_euler}\\nVelocidade aproximada: {velocidade_euler_A:.4f} m/s Erro de aproximação: {erro_euler:.4f}\\n\")\n",
        "print(f\"Método de Euler aperfeiçoado\\nNúmero de passos: {n_euler_aprimorado}\\nVelocidade aproximada: {velocidade_euler_aprimorado_A:.4f} m/s Erro de aproximação: {erro_euler_aprimorado:.4f}\\n\")\n",
        "print(f\"Método de Runge-Kutta\\nNúmero de passos: {n_runge_kutta}\\nVelocidade aproximada: {velocidade_runge_kutta_A:.4f} m/s Erro de aproximação: {erro_runge_kutta:.4f}\")\n",
        "\n"
      ],
      "metadata": {
        "colab": {
          "base_uri": "https://localhost:8080/"
        },
        "id": "txZdQuBbN8uj",
        "outputId": "15149a74-1969-4862-afa8-1b4c3a916c3d"
      },
      "execution_count": null,
      "outputs": [
        {
          "output_type": "stream",
          "name": "stdout",
          "text": [
            "Método de Euler\n",
            "Número de passos: 791\n",
            "Velocidade aproximada: 57.9574 m/s Erro de aproximação: 0.0100\n",
            "\n",
            "Método de Euler aperfeiçoado\n",
            "Número de passos: 35\n",
            "Velocidade aproximada: 57.9376 m/s Erro de aproximação: 0.0099\n",
            "\n",
            "Método de Runge-Kutta\n",
            "Número de passos: 7\n",
            "Velocidade aproximada: 57.9409 m/s Erro de aproximação: 0.0066\n"
          ]
        }
      ]
    },
    {
      "cell_type": "code",
      "source": [
        "#Letra B\n",
        "\n",
        "c = 12.5  # Coeficiente de arrasto em kg/s\n",
        "alfa = 0.2\n",
        "beta = 1.1\n",
        "v_max = 46  # m/s\n",
        "\n",
        "def C(v):\n",
        "    return c * (1 + alfa * (v/v_max)**beta)\n",
        "\n",
        "def f(t, v):\n",
        "    return g - (C(v)/m) * v\n",
        "\n",
        "euler_resultado = euler(f, 0, 0, 25/n_euler, n_euler)\n",
        "euler_aprimorado_resultado = euler_aperfeicoado(f, 0, 0, 25/n_euler_aprimorado, n_euler_aprimorado)\n",
        "runge_kutta_resultado = runge_kutta(f, 0, 0, 25/n_runge_kutta, n_runge_kutta)\n",
        "\n",
        "velocidade_euler_B = euler_resultado[-1][1]\n",
        "velocidade_euler_aprimorado_B = euler_aprimorado_resultado[-1][1]\n",
        "velocidade_runge_kutta_B = runge_kutta_resultado[-1][1]\n",
        "\n",
        "print(f\"Velocidade final pelo Método de Euler:{velocidade_euler_B:.4f} m/s\")\n",
        "print(f\"Velocidade final pelo Método de Euler aperfeiçoado: {velocidade_euler_aprimorado_B:.4f} m/s\")\n",
        "print(f\"Velocidade final pelo Método de Runge-Kutta:{velocidade_runge_kutta_B:.4f} m/s\")"
      ],
      "metadata": {
        "colab": {
          "base_uri": "https://localhost:8080/"
        },
        "id": "K8QclZk_TJ5X",
        "outputId": "eadd073a-30bf-428c-82ba-eef430b8028c"
      },
      "execution_count": null,
      "outputs": [
        {
          "output_type": "stream",
          "name": "stdout",
          "text": [
            "Velocidade final pelo Método de Euler:48.4166 m/s\n",
            "Velocidade final pelo Método de Euler aperfeiçoado: 48.4091 m/s\n",
            "Velocidade final pelo Método de Runge-Kutta:48.4066 m/s\n"
          ]
        }
      ]
    },
    {
      "cell_type": "code",
      "source": [
        "#Letra C\n",
        "\n",
        "print(f\"Diferença de velocidade no Método de Euler: {velocidade_euler_A - velocidade_euler_B:.4f}\")\n",
        "print(f\"Diferença de velocidade no Método de Euler aprimorado: {velocidade_euler_aprimorado_A - velocidade_euler_aprimorado_B:.4f}\")\n",
        "print(f\"Diferença de velocidade no Método de Runge-Kutta: {velocidade_runge_kutta_A - velocidade_runge_kutta_B:.4f}\")\n",
        "\n"
      ],
      "metadata": {
        "colab": {
          "base_uri": "https://localhost:8080/"
        },
        "id": "-laAID8TYp6h",
        "outputId": "47ca9485-0114-423f-f644-37d54586e954"
      },
      "execution_count": null,
      "outputs": [
        {
          "output_type": "stream",
          "name": "stdout",
          "text": [
            "Diferença de velocidade no Método de Euler: 9.5409\n",
            "Diferença de velocidade no Método de Euler aprimorado: 9.5285\n",
            "Diferença de velocidade no Método de Runge-Kutta: 9.5343\n"
          ]
        }
      ]
    },
    {
      "cell_type": "markdown",
      "metadata": {
        "id": "3oYuYZILVvhL"
      },
      "source": [
        "## Tarefa #3: Propagação de uma doença infecciosa\n",
        "\n",
        "Para modelar a dinâmica de uma doença infecciosa em que os indivíduos se recuperam sem imunidade, é usado o seguinte sistema de duas EDOs conhecido como modelo SIS:\n",
        "\n",
        "$$\n",
        "\\left\\{\n",
        "\\begin{aligned}\n",
        "\\frac{d S}{dt} &= -\\beta S I + \\gamma I\\\\\n",
        "\\frac{d I}{dt} &= \\beta S I - \\gamma I\n",
        "\\end{aligned}\n",
        "\\right.\n",
        "$$\n",
        "\n",
        "onde $S$ e $I$ representam o número de indivíduos suscetíveis e infectados, respectivamente, $t$ o tempo,  $\\beta$ a velocidade de contacto ou infecção da doença e $\\gamma$ a taxa de recuperação média.\n",
        "\n",
        "Considere uma cidade com uma população de $10000$ indivíduos todos suscetíveis. Se um único indivíduo infectado entra na cidade to tempo $t = 0$, qual será a quantidade de indivíduos suscetíveis e infectados após $3$ semanas? Use os parâmetros $\\beta = 0.0003/(\\mathit{indivíduo\\cdot dia})$ e $\\gamma = 0.15/\\mathit{dia}$.\n",
        "\n",
        "Utilize o seu código do método de RK de $4^a$ ordem (tarefa #1, item c)) para responder a essa questão. Procure uma aproximação com erro estimado inferior a $0.05$. Explique."
      ]
    },
    {
      "cell_type": "code",
      "source": [
        "import numpy as np\n",
        "import matplotlib.pyplot as plt\n",
        "\n",
        "def SIS_model(x, y):\n",
        "    S, I = y\n",
        "    beta = 0.0003  # taxa de contato ou infecção da doença\n",
        "    gamma = 0.15  # taxa de recuperação média\n",
        "\n",
        "    dSdt = -beta * S * I + gamma * I\n",
        "    dIdt = beta * S * I - gamma * I\n",
        "\n",
        "    return np.array([dSdt, dIdt])\n",
        "\n",
        "# Condições iniciais\n",
        "S0 = 10000\n",
        "I0 = 1\n",
        "y0 = np.array([S0, I0])\n",
        "\n",
        "# Parâmetros de tempo\n",
        "t0 = 0  # tempo inicial\n",
        "tf = 21  # tempo final em dias\n",
        "dt = 1  # passo de tempo em dias\n",
        "n = int((tf - t0) / dt)  # número de iterações\n",
        "\n",
        "# Integração numérica usando o método de Runge-Kutta\n",
        "results = runge_kutta(SIS_model, t0, y0, dt, n)\n",
        "\n",
        "# Extração dos resultados\n",
        "t_list = [result[0] for result in results]\n",
        "S_list = [result[1][0] for result in results]\n",
        "I_list = [result[1][1] for result in results]\n",
        "\n",
        "# Resultados após 3 semanas\n",
        "final_S = S_list[-1]\n",
        "final_I = I_list[-1]\n",
        "\n",
        "print(\"Quantidade de indivíduos suscetíveis após 3 semanas:\", int(final_S))\n",
        "print(\"Quantidade de indivíduos infectados após 3 semanas:\", int(final_I))"
      ],
      "metadata": {
        "colab": {
          "base_uri": "https://localhost:8080/"
        },
        "id": "dKQVmEAbkQxF",
        "outputId": "a7117387-8d86-4961-bab9-2ab630cba5e7"
      },
      "execution_count": null,
      "outputs": [
        {
          "output_type": "stream",
          "name": "stdout",
          "text": [
            "Quantidade de indivíduos suscetíveis após 3 semanas: 2061\n",
            "Quantidade de indivíduos infectados após 3 semanas: 7939\n"
          ]
        }
      ]
    },
    {
      "cell_type": "markdown",
      "metadata": {
        "id": "isWQBJ32XORa"
      },
      "source": [
        "# Relatório\n",
        "\n",
        "## Tarefa 1\n",
        "\n",
        "Os códigos da implementação dos métodos se encontram na primeira seção (Tarefa 1)\n",
        "\n",
        "## Tarefa 2\n",
        "\n",
        "**LETRA A**\n",
        "\n",
        "Analisando os resultados obtidos abaixo, podemos perceber que o método Runge-Kutta é mais eficiente pois obteve menor erro na aproximação e com menor quantidade de passos.\n",
        "\n",
        "Resultados obtidos:\n",
        "\n",
        "**Método de Euler**\n",
        "\n",
        "Número de passos: 791\n",
        "\n",
        "Velocidade aproximada: 57.9574 m/s\n",
        "\n",
        "Erro de aproximação: 0.0100\n",
        "\n",
        "**Método de Euler aperfeiçoado**\n",
        "\n",
        "Número de passos: 35\n",
        "\n",
        "Velocidade aproximada: 57.9376 m/s\n",
        "\n",
        "Erro de aproximação: 0.0099\n",
        "\n",
        "**Método de Runge-Kutta**\n",
        "\n",
        "Número de passos: 7\n",
        "\n",
        "Velocidade aproximada: 57.9409 m/s\n",
        "\n",
        "Erro de aproximação: 0.0066\n",
        "\n",
        "**LETRA B**\n",
        "\n",
        "Velocidade adicionando a resistência do paraquedas:\n",
        "\n",
        "Velocidade final pelo Método de Euler: 48.4166 m/s\n",
        "\n",
        "Velocidade final pelo Método de Euler aperfeiçoado: 48.4091 m/s\n",
        "\n",
        "Velocidade final pelo Método de Runge-Kutta: 48.4066 m/s\n",
        "\n",
        "**LETRA C**\n",
        "\n",
        "Calculando a diferença da velocidade encontrada na letra a e b:\n",
        "\n",
        "Diferença de velocidade no Método de Euler: 9.5409\n",
        "\n",
        "Diferença de velocidade no Método de Euler aprimorado: 9.5285\n",
        "\n",
        "Diferença de velocidade no Método de Runge-Kutta: 9.5343\n",
        "\n",
        "## Tarefa 3\n",
        "\n",
        "Os resultados encontrados após 3 semanas de simulação mostraram que a dinâmica da doença na população mudou drasticamente. Inicialmente, com todos os indivíduos suscetíveis e apenas um indivíduo infectado, observamos uma rápida disseminação da doença com um aumento significativo no número de indivíduos infectados. Isso ocorre porque a taxa de contato é maior que a taxa de recuperação.\n",
        "\n",
        "Após 3 semanas, a quantidade de indivíduos suscetíveis será de 2061 e de indivíduos infectados será de 7939.\n",
        "\n",
        "\n"
      ]
    }
  ]
}